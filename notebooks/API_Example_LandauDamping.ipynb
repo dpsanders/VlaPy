{
 "cells": [
  {
   "cell_type": "markdown",
   "metadata": {},
   "source": [
    "## Landau Damping in VlaPy\n",
    "### Archis Joglekar\n",
    "### August 16, 2020\n",
    "\n",
    "\n",
    "This notebook provides an example of how one can use VlaPy. Here, we verify that the code reproduces Landau Damping for $k=0.3$.  To initialize the example, we apply an external force to the system for a short period of time. After this time, we observe evidence of damping of the electric field at the rate specified by Landau Damping theory."
   ]
  },
  {
   "cell_type": "markdown",
   "metadata": {},
   "source": [
    "### Import Packages"
   ]
  },
  {
   "cell_type": "code",
   "execution_count": 1,
   "metadata": {},
   "outputs": [],
   "source": [
    "import numpy as np\n",
    "\n",
    "from vlapy import manager, initializers\n",
    "from vlapy.infrastructure import print_to_screen, mlflow_helpers\n",
    "from vlapy.diagnostics import landau_damping, z_function\n",
    "import uuid"
   ]
  },
  {
   "cell_type": "markdown",
   "metadata": {},
   "source": [
    "## Perform 1 run"
   ]
  },
  {
   "cell_type": "markdown",
   "metadata": {},
   "source": [
    "### Initialize simulation parameters and driver to test Landau Damping for a random wavenumber\n",
    "### This is performed in 2 steps...\n",
    "### 1 - Get Default Simulation Parameters\n",
    "### 2 - Initialize Driver According to the EPW resonance condition"
   ]
  },
  {
   "cell_type": "code",
   "execution_count": 2,
   "metadata": {},
   "outputs": [],
   "source": [
    "k0 = np.random.uniform(0.3, 0.4)"
   ]
  },
  {
   "cell_type": "code",
   "execution_count": 3,
   "metadata": {},
   "outputs": [
    {
     "name": "stdout",
     "output_type": "stream",
     "text": [
      "Starting VlaPy at 08/16/2020 13:46:51\n",
      "MLFlow experiment name: vlapy-test\n",
      "Run parameters: \n",
      "{'a0': 1e-07,\n",
      " 'backend': {'core': 'numpy', 'max_doubles_per_file': 100000000},\n",
      " 'fokker-planck': {'solver': 'batched_tridiagonal', 'type': 'lb'},\n",
      " 'nt': 1000,\n",
      " 'nu': 0.0,\n",
      " 'nu_ld': -0.05779098807257614,\n",
      " 'nv': 1024,\n",
      " 'nx': 64,\n",
      " 'tmax': 100,\n",
      " 'v_ph': 3.2710604304418864,\n",
      " 'vlasov-poisson': {'edfdv': 'exponential',\n",
      "                    'poisson': 'spectral',\n",
      "                    'time': 'leapfrog',\n",
      "                    'vdfdx': 'exponential'},\n",
      " 'vmax': 6.4,\n",
      " 'w_epw': 1.2697545343602237,\n",
      " 'xmax': 16.18634017779242,\n",
      " 'xmin': 0.0}\n",
      "Driver parameters: \n",
      "{'first pulse': {'a0': 1e-07,\n",
      "                 'fall_time': 5,\n",
      "                 'flat_time': 10,\n",
      "                 'k0': 0.38817825636706227,\n",
      "                 'rise_time': 5,\n",
      "                 'start_time': 0,\n",
      "                 'w0': 1.2697545343602237}}\n",
      "\n"
     ]
    }
   ],
   "source": [
    "# Initialize all default parameters\n",
    "all_params_dict = initializers.make_default_params_dictionary()\n",
    "\n",
    "# Acquire the EPW resonance conditions and initialize the spatial domain accordingly\n",
    "all_params_dict = initializers.specify_epw_params_to_dict(\n",
    "    k0=k0, all_params_dict=all_params_dict\n",
    ")\n",
    "\n",
    "# Collisionless Simulation\n",
    "all_params_dict[\"nu\"] = 0. \n",
    "\n",
    "\n",
    "# Here we create the pulse dictionary\n",
    "pulse_dictionary = {\n",
    "    \"first pulse\": {\n",
    "        \"start_time\": 0,\n",
    "        \"rise_time\": 5,\n",
    "        \"flat_time\": 10,\n",
    "        \"fall_time\": 5,\n",
    "        \"w0\": all_params_dict[\"w_epw\"],\n",
    "        \"a0\": all_params_dict[\"a0\"],\n",
    "        \"k0\": k0,\n",
    "    }\n",
    "}\n",
    "\n",
    "mlflow_exp_name = \"vlapy-test\"\n",
    "\n",
    "uris = {\n",
    "    \"tracking\": \"local\",\n",
    "}\n",
    "\n",
    "print_to_screen.print_startup_message(\n",
    "    mlflow_exp_name, all_params_dict, pulse_dictionary\n",
    ")"
   ]
  },
  {
   "cell_type": "markdown",
   "metadata": {},
   "source": [
    "### The simulation parameters are listed above. Assuming those check out, the simulation continues below. After it ends, we print the measured Landau Damping rate and compare it with the Actual"
   ]
  },
  {
   "cell_type": "code",
   "execution_count": 4,
   "metadata": {},
   "outputs": [
    {
     "name": "stderr",
     "output_type": "stream",
     "text": [
      "  0%|          | 0/1 [00:00<?, ?it/s]\n",
      "  0%|          | 0/1525 [00:00<?, ?it/s]\u001b[A\n",
      "  1%|          | 9/1525 [00:00<00:17, 85.85it/s]\u001b[A\n",
      "  1%|          | 18/1525 [00:00<00:17, 86.65it/s]\u001b[A\n",
      "  2%|▏         | 27/1525 [00:00<00:17, 87.40it/s]\u001b[A\n",
      "  2%|▏         | 37/1525 [00:00<00:16, 88.55it/s]\u001b[A\n",
      "  3%|▎         | 47/1525 [00:00<00:16, 89.52it/s]\u001b[A\n",
      "  4%|▎         | 56/1525 [00:00<00:16, 89.39it/s]\u001b[A\n",
      "  4%|▍         | 66/1525 [00:00<00:16, 90.08it/s]\u001b[A\n",
      "  5%|▍         | 76/1525 [00:00<00:15, 90.59it/s]\u001b[A\n",
      "  6%|▌         | 86/1525 [00:00<00:15, 91.05it/s]\u001b[A\n",
      "  6%|▌         | 95/1525 [00:01<00:15, 89.40it/s]\u001b[A\n",
      "  7%|▋         | 104/1525 [00:01<00:16, 85.15it/s]\u001b[A\n",
      "  7%|▋         | 113/1525 [00:01<00:16, 85.50it/s]\u001b[A\n",
      "  8%|▊         | 122/1525 [00:01<00:16, 86.51it/s]\u001b[A\n",
      "  9%|▊         | 132/1525 [00:01<00:15, 88.60it/s]\u001b[A\n",
      "  9%|▉         | 141/1525 [00:01<00:15, 88.57it/s]\u001b[A\n",
      " 10%|▉         | 150/1525 [00:01<00:15, 86.96it/s]\u001b[A\n",
      " 10%|█         | 159/1525 [00:01<00:15, 85.76it/s]\u001b[A\n",
      " 11%|█         | 168/1525 [00:01<00:15, 85.56it/s]\u001b[A\n",
      " 12%|█▏        | 177/1525 [00:02<00:15, 86.57it/s]\u001b[A\n",
      " 12%|█▏        | 186/1525 [00:02<00:15, 87.17it/s]\u001b[A\n",
      " 13%|█▎        | 195/1525 [00:02<00:15, 87.22it/s]\u001b[A\n",
      " 13%|█▎        | 204/1525 [00:02<00:15, 87.32it/s]\u001b[A\n",
      " 14%|█▍        | 213/1525 [00:02<00:15, 87.20it/s]\u001b[A\n",
      " 15%|█▍        | 222/1525 [00:02<00:15, 85.71it/s]\u001b[A\n",
      " 15%|█▌        | 231/1525 [00:02<00:15, 85.15it/s]\u001b[A\n",
      " 16%|█▌        | 240/1525 [00:02<00:15, 85.18it/s]\u001b[A\n",
      " 16%|█▋        | 249/1525 [00:02<00:14, 85.84it/s]\u001b[A\n",
      " 17%|█▋        | 258/1525 [00:02<00:14, 86.65it/s]\u001b[A\n",
      " 18%|█▊        | 267/1525 [00:03<00:14, 87.07it/s]\u001b[A\n",
      " 18%|█▊        | 276/1525 [00:03<00:14, 87.05it/s]\u001b[A\n",
      " 19%|█▊        | 285/1525 [00:03<00:14, 87.40it/s]\u001b[A\n",
      " 19%|█▉        | 294/1525 [00:03<00:14, 87.86it/s]\u001b[A\n",
      " 20%|█▉        | 303/1525 [00:03<00:13, 87.70it/s]\u001b[A\n",
      " 20%|██        | 312/1525 [00:03<00:13, 87.22it/s]\u001b[A\n",
      " 21%|██        | 321/1525 [00:03<00:13, 86.48it/s]\u001b[A\n",
      " 22%|██▏       | 331/1525 [00:03<00:13, 87.78it/s]\u001b[A\n",
      " 22%|██▏       | 340/1525 [00:03<00:13, 88.07it/s]\u001b[A\n",
      " 23%|██▎       | 349/1525 [00:03<00:13, 87.62it/s]\u001b[A\n",
      " 23%|██▎       | 358/1525 [00:04<00:13, 87.73it/s]\u001b[A\n",
      " 24%|██▍       | 367/1525 [00:04<00:13, 87.57it/s]\u001b[A\n",
      " 25%|██▍       | 376/1525 [00:04<00:13, 86.94it/s]\u001b[A\n",
      " 25%|██▌       | 385/1525 [00:04<00:13, 87.51it/s]\u001b[A\n",
      " 26%|██▌       | 394/1525 [00:04<00:13, 86.86it/s]\u001b[A\n",
      " 26%|██▋       | 403/1525 [00:04<00:13, 84.22it/s]\u001b[A\n",
      " 27%|██▋       | 412/1525 [00:04<00:13, 84.40it/s]\u001b[A\n",
      " 28%|██▊       | 421/1525 [00:04<00:13, 84.84it/s]\u001b[A\n",
      " 28%|██▊       | 430/1525 [00:04<00:12, 84.62it/s]\u001b[A\n",
      " 29%|██▉       | 440/1525 [00:05<00:12, 86.63it/s]\u001b[A\n",
      " 30%|██▉       | 450/1525 [00:05<00:12, 88.08it/s]\u001b[A\n",
      " 30%|███       | 460/1525 [00:05<00:11, 88.77it/s]\u001b[A\n",
      " 31%|███       | 470/1525 [00:05<00:11, 89.83it/s]\u001b[A\n",
      " 31%|███▏      | 479/1525 [00:05<00:11, 89.86it/s]\u001b[A\n",
      " 32%|███▏      | 489/1525 [00:05<00:11, 90.03it/s]\u001b[A\n",
      " 33%|███▎      | 499/1525 [00:05<00:11, 89.12it/s]\u001b[A\n",
      " 33%|███▎      | 508/1525 [00:05<00:11, 87.48it/s]\u001b[A\n",
      " 34%|███▍      | 517/1525 [00:05<00:11, 88.18it/s]\u001b[A\n",
      " 35%|███▍      | 527/1525 [00:06<00:11, 89.40it/s]\u001b[A\n",
      " 35%|███▌      | 537/1525 [00:06<00:10, 89.82it/s]\u001b[A\n",
      " 36%|███▌      | 547/1525 [00:06<00:10, 90.04it/s]\u001b[A\n",
      " 37%|███▋      | 557/1525 [00:06<00:10, 88.29it/s]\u001b[A\n",
      " 37%|███▋      | 566/1525 [00:06<00:11, 86.65it/s]\u001b[A\n",
      " 38%|███▊      | 575/1525 [00:06<00:11, 85.77it/s]\u001b[A\n",
      " 38%|███▊      | 584/1525 [00:06<00:11, 84.53it/s]\u001b[A\n",
      " 39%|███▉      | 593/1525 [00:06<00:11, 84.52it/s]\u001b[A\n",
      " 39%|███▉      | 602/1525 [00:06<00:11, 83.45it/s]\u001b[A\n",
      " 40%|████      | 611/1525 [00:07<00:10, 83.31it/s]\u001b[A\n",
      " 41%|████      | 620/1525 [00:07<00:10, 83.54it/s]\u001b[A\n",
      " 41%|████      | 629/1525 [00:07<00:10, 83.79it/s]\u001b[A\n",
      " 42%|████▏     | 638/1525 [00:07<00:10, 83.62it/s]\u001b[A\n",
      " 42%|████▏     | 647/1525 [00:07<00:10, 83.69it/s]\u001b[A\n",
      " 43%|████▎     | 656/1525 [00:07<00:10, 83.34it/s]\u001b[A\n",
      " 44%|████▎     | 665/1525 [00:07<00:10, 83.73it/s]\u001b[A\n",
      " 44%|████▍     | 674/1525 [00:07<00:10, 83.55it/s]\u001b[A\n",
      " 45%|████▍     | 683/1525 [00:07<00:09, 85.00it/s]\u001b[A\n",
      " 45%|████▌     | 692/1525 [00:07<00:09, 85.92it/s]\u001b[A\n",
      " 46%|████▌     | 701/1525 [00:08<00:09, 87.03it/s]\u001b[A\n",
      " 47%|████▋     | 711/1525 [00:08<00:09, 88.28it/s]\u001b[A\n",
      " 47%|████▋     | 721/1525 [00:08<00:09, 88.90it/s]\u001b[A\n",
      " 48%|████▊     | 730/1525 [00:08<00:08, 88.96it/s]\u001b[A\n",
      " 48%|████▊     | 739/1525 [00:08<00:08, 88.49it/s]\u001b[A\n",
      " 49%|████▉     | 748/1525 [00:08<00:08, 88.16it/s]\u001b[A\n",
      " 50%|████▉     | 757/1525 [00:08<00:08, 88.16it/s]\u001b[A\n",
      " 50%|█████     | 766/1525 [00:08<00:08, 88.46it/s]\u001b[A\n",
      " 51%|█████     | 775/1525 [00:08<00:08, 87.74it/s]\u001b[A\n",
      " 51%|█████▏    | 784/1525 [00:09<00:08, 86.18it/s]\u001b[A\n",
      " 52%|█████▏    | 793/1525 [00:09<00:08, 84.85it/s]\u001b[A\n",
      " 53%|█████▎    | 802/1525 [00:09<00:08, 84.77it/s]\u001b[A\n",
      " 53%|█████▎    | 811/1525 [00:09<00:08, 84.20it/s]\u001b[A\n",
      " 54%|█████▍    | 820/1525 [00:09<00:08, 84.15it/s]\u001b[A\n",
      " 54%|█████▍    | 829/1525 [00:09<00:08, 83.33it/s]\u001b[A\n",
      " 55%|█████▍    | 838/1525 [00:09<00:08, 79.12it/s]\u001b[A\n",
      " 55%|█████▌    | 846/1525 [00:09<00:08, 77.41it/s]\u001b[A\n",
      " 56%|█████▌    | 854/1525 [00:09<00:08, 77.15it/s]\u001b[A\n",
      " 57%|█████▋    | 862/1525 [00:09<00:08, 76.43it/s]\u001b[A\n",
      " 57%|█████▋    | 871/1525 [00:10<00:08, 77.73it/s]\u001b[A\n",
      " 58%|█████▊    | 880/1525 [00:10<00:08, 79.76it/s]\u001b[A\n",
      " 58%|█████▊    | 889/1525 [00:10<00:08, 78.93it/s]\u001b[A\n",
      " 59%|█████▉    | 898/1525 [00:10<00:07, 80.76it/s]\u001b[A\n",
      " 59%|█████▉    | 907/1525 [00:10<00:07, 82.58it/s]\u001b[A\n",
      " 60%|██████    | 916/1525 [00:10<00:07, 81.86it/s]\u001b[A\n",
      " 61%|██████    | 925/1525 [00:10<00:07, 81.18it/s]\u001b[A\n",
      " 61%|██████    | 934/1525 [00:10<00:07, 82.82it/s]\u001b[A\n",
      " 62%|██████▏   | 943/1525 [00:10<00:07, 82.90it/s]\u001b[A\n",
      " 62%|██████▏   | 952/1525 [00:11<00:07, 80.94it/s]\u001b[A\n",
      " 63%|██████▎   | 961/1525 [00:11<00:06, 82.12it/s]\u001b[A\n",
      " 64%|██████▎   | 970/1525 [00:11<00:06, 82.39it/s]\u001b[A\n",
      " 64%|██████▍   | 979/1525 [00:11<00:06, 82.39it/s]\u001b[A\n",
      " 65%|██████▍   | 988/1525 [00:11<00:06, 83.31it/s]\u001b[A\n",
      " 65%|██████▌   | 997/1525 [00:11<00:06, 84.94it/s]\u001b[A\n",
      " 66%|██████▌   | 1006/1525 [00:11<00:06, 85.90it/s]\u001b[A\n",
      " 67%|██████▋   | 1015/1525 [00:11<00:05, 86.85it/s]\u001b[A\n",
      " 67%|██████▋   | 1024/1525 [00:11<00:05, 86.98it/s]\u001b[A\n",
      " 68%|██████▊   | 1033/1525 [00:12<00:05, 86.62it/s]\u001b[A\n",
      " 68%|██████▊   | 1042/1525 [00:12<00:05, 86.62it/s]\u001b[A\n",
      " 69%|██████▉   | 1051/1525 [00:12<00:05, 87.03it/s]\u001b[A\n",
      " 70%|██████▉   | 1060/1525 [00:12<00:05, 87.21it/s]\u001b[A\n",
      " 70%|███████   | 1069/1525 [00:12<00:05, 88.02it/s]\u001b[A\n",
      " 71%|███████   | 1078/1525 [00:12<00:05, 88.13it/s]\u001b[A\n",
      " 71%|███████▏  | 1087/1525 [00:12<00:04, 88.18it/s]\u001b[A\n",
      " 72%|███████▏  | 1097/1525 [00:12<00:04, 88.97it/s]\u001b[A\n",
      " 73%|███████▎  | 1106/1525 [00:12<00:04, 89.11it/s]\u001b[A\n",
      " 73%|███████▎  | 1116/1525 [00:12<00:04, 90.01it/s]\u001b[A\n",
      " 74%|███████▍  | 1126/1525 [00:13<00:04, 90.45it/s]\u001b[A\n",
      " 74%|███████▍  | 1136/1525 [00:13<00:04, 90.78it/s]\u001b[A\n",
      " 75%|███████▌  | 1146/1525 [00:13<00:04, 91.15it/s]\u001b[A\n",
      " 76%|███████▌  | 1156/1525 [00:13<00:03, 92.56it/s]\u001b[A\n",
      " 76%|███████▋  | 1166/1525 [00:13<00:03, 93.25it/s]\u001b[A\n",
      " 77%|███████▋  | 1176/1525 [00:13<00:03, 93.37it/s]\u001b[A\n",
      " 78%|███████▊  | 1186/1525 [00:13<00:03, 93.01it/s]\u001b[A\n",
      " 78%|███████▊  | 1196/1525 [00:13<00:03, 93.24it/s]\u001b[A\n",
      " 79%|███████▉  | 1206/1525 [00:13<00:03, 93.30it/s]\u001b[A\n",
      " 80%|███████▉  | 1216/1525 [00:14<00:03, 93.29it/s]\u001b[A\n",
      " 80%|████████  | 1226/1525 [00:14<00:03, 93.09it/s]\u001b[A\n",
      " 81%|████████  | 1236/1525 [00:14<00:03, 93.10it/s]\u001b[A\n",
      " 82%|████████▏ | 1246/1525 [00:14<00:02, 93.17it/s]\u001b[A\n",
      " 82%|████████▏ | 1256/1525 [00:14<00:02, 93.41it/s]\u001b[A\n",
      " 83%|████████▎ | 1266/1525 [00:14<00:02, 91.70it/s]\u001b[A\n",
      " 84%|████████▎ | 1276/1525 [00:14<00:02, 89.94it/s]\u001b[A\n",
      " 84%|████████▍ | 1286/1525 [00:14<00:02, 88.31it/s]\u001b[A\n",
      " 85%|████████▍ | 1295/1525 [00:14<00:02, 86.88it/s]\u001b[A\n",
      " 86%|████████▌ | 1304/1525 [00:15<00:02, 86.74it/s]\u001b[A\n",
      " 86%|████████▌ | 1314/1525 [00:15<00:02, 87.99it/s]\u001b[A\n",
      " 87%|████████▋ | 1323/1525 [00:15<00:02, 87.78it/s]\u001b[A\n",
      " 87%|████████▋ | 1332/1525 [00:15<00:02, 87.17it/s]\u001b[A\n",
      " 88%|████████▊ | 1342/1525 [00:15<00:02, 88.56it/s]\u001b[A\n",
      " 89%|████████▊ | 1351/1525 [00:15<00:01, 88.81it/s]\u001b[A\n",
      " 89%|████████▉ | 1360/1525 [00:15<00:01, 88.59it/s]\u001b[A\n",
      " 90%|████████▉ | 1369/1525 [00:15<00:01, 87.07it/s]\u001b[A\n",
      " 90%|█████████ | 1378/1525 [00:15<00:01, 86.73it/s]\u001b[A\n",
      " 91%|█████████ | 1388/1525 [00:15<00:01, 88.01it/s]\u001b[A\n",
      " 92%|█████████▏| 1398/1525 [00:16<00:01, 89.38it/s]\u001b[A\n",
      " 92%|█████████▏| 1408/1525 [00:16<00:01, 90.54it/s]\u001b[A\n",
      " 93%|█████████▎| 1418/1525 [00:16<00:01, 91.58it/s]\u001b[A\n",
      " 94%|█████████▎| 1428/1525 [00:16<00:01, 91.68it/s]\u001b[A\n",
      " 94%|█████████▍| 1438/1525 [00:16<00:00, 92.13it/s]\u001b[A\n",
      " 95%|█████████▍| 1448/1525 [00:16<00:00, 92.56it/s]\u001b[A\n",
      " 96%|█████████▌| 1458/1525 [00:16<00:00, 92.15it/s]\u001b[A\n",
      " 96%|█████████▋| 1468/1525 [00:16<00:00, 93.00it/s]\u001b[A\n",
      " 97%|█████████▋| 1478/1525 [00:16<00:00, 92.49it/s]\u001b[A\n",
      " 98%|█████████▊| 1488/1525 [00:17<00:00, 93.27it/s]\u001b[A\n",
      " 98%|█████████▊| 1498/1525 [00:17<00:00, 93.76it/s]\u001b[A\n",
      " 99%|█████████▉| 1508/1525 [00:17<00:00, 93.86it/s]\u001b[A\n",
      "100%|██████████| 1525/1525 [00:17<00:00, 87.41it/s]\u001b[A\n",
      "100%|██████████| 1/1 [00:24<00:00, 24.91s/it]"
     ]
    },
    {
     "name": "stdout",
     "output_type": "stream",
     "text": [
      "Measured Landau Damping Rate: -0.05769441438284097 Actual Landau Damping Rate: -0.05779098807257614\n"
     ]
    },
    {
     "name": "stderr",
     "output_type": "stream",
     "text": [
      "\n"
     ]
    }
   ],
   "source": [
    "that_run = manager.start_run(\n",
    "    all_params=all_params_dict,\n",
    "    pulse_dictionary=pulse_dictionary,\n",
    "    diagnostics=landau_damping.LandauDamping(\n",
    "        vph=all_params_dict[\"v_ph\"], wepw=all_params_dict[\"w_epw\"],\n",
    "    ),\n",
    "    uris=uris,\n",
    "    name=mlflow_exp_name,\n",
    ")\n",
    "\n",
    "print (\n",
    "    \"Measured Landau Damping Rate: \" + str(mlflow_helpers.get_this_metric_of_this_run(\"damping_rate\", that_run)),\n",
    "    \"Actual Landau Damping Rate: \" + str(all_params_dict[\"nu_ld\"]),\n",
    ")"
   ]
  },
  {
   "cell_type": "markdown",
   "metadata": {},
   "source": [
    "## Note that the damping rate is as expected within a small error.\n",
    "\n",
    "## The data and metadata from that simulation can be found by launching the MLFlow UI\n",
    "This requires one to launch an MLFlow server by executing `mlflow ui` from the directory of execution (`VlaPy/notebooks`).\n",
    "An MLFlow UI becomes accessible at `http://localhost:5000` . We provide an example screenshot:"
   ]
  },
  {
   "cell_type": "markdown",
   "metadata": {},
   "source": [
    "![UI example](screenshots_for_example/ui.png)"
   ]
  },
  {
   "cell_type": "markdown",
   "metadata": {},
   "source": [
    "## This UI records any parameters and metrics. \n"
   ]
  },
  {
   "cell_type": "markdown",
   "metadata": {},
   "source": [
    "![params](screenshots_for_example/params_metrics.png)"
   ]
  },
  {
   "cell_type": "markdown",
   "metadata": {},
   "source": [
    "## Most importantly, it also shows where the files were stored for that particular run."
   ]
  },
  {
   "cell_type": "markdown",
   "metadata": {},
   "source": [
    "![Plot example](screenshots_for_example/damping.png)"
   ]
  },
  {
   "cell_type": "code",
   "execution_count": null,
   "metadata": {},
   "outputs": [],
   "source": []
  }
 ],
 "metadata": {
  "kernelspec": {
   "display_name": "Python 3",
   "language": "python",
   "name": "python3"
  },
  "language_info": {
   "codemirror_mode": {
    "name": "ipython",
    "version": 3
   },
   "file_extension": ".py",
   "mimetype": "text/x-python",
   "name": "python",
   "nbconvert_exporter": "python",
   "pygments_lexer": "ipython3",
   "version": "3.8.5"
  },
  "widgets": {
   "application/vnd.jupyter.widget-state+json": {
    "state": {},
    "version_major": 2,
    "version_minor": 0
   }
  }
 },
 "nbformat": 4,
 "nbformat_minor": 4
}
