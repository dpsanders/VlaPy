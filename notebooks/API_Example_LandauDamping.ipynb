{
 "cells": [
  {
   "cell_type": "markdown",
   "metadata": {},
   "source": [
    "## Landau Damping in VlaPy\n",
    "### Archis Joglekar\n",
    "### May 24, 2020\n",
    "\n",
    "\n",
    "This notebook provides an example of how one can use VlaPy. Here, we verify that the code reproduces Landau Damping for $k=0.3$.  To initialize the example, we apply an external force to the system for a short period of time. After this time, we observe evidence of damping of the electric field at the rate specified by Landau Damping theory."
   ]
  },
  {
   "cell_type": "markdown",
   "metadata": {},
   "source": [
    "### Import Packages"
   ]
  },
  {
   "cell_type": "code",
   "execution_count": 1,
   "metadata": {},
   "outputs": [],
   "source": [
    "import numpy as np\n",
    "\n",
    "from vlapy import manager\n",
    "from diagnostics import landau_damping, z_function\n",
    "import uuid"
   ]
  },
  {
   "cell_type": "markdown",
   "metadata": {},
   "source": [
    "## Perform 1 run"
   ]
  },
  {
   "cell_type": "markdown",
   "metadata": {},
   "source": [
    "### Initialize simulation and driver"
   ]
  },
  {
   "cell_type": "code",
   "execution_count": 2,
   "metadata": {},
   "outputs": [],
   "source": [
    "all_params_dict = {\n",
    "    \"nx\": 48,\n",
    "    \"xmin\": 0.0,\n",
    "    \"xmax\": 2.0 * np.pi / 0.3,\n",
    "    \"nv\": 512,\n",
    "    \"vmax\": 6.0,\n",
    "    \"nt\": 1000,\n",
    "    \"tmax\": 100,\n",
    "    \"nu\": 0.0,\n",
    "}\n",
    "\n",
    "pulse_dictionary = {\n",
    "    \"first pulse\": {\n",
    "        \"start_time\": 0,\n",
    "        \"rise_time\": 5,\n",
    "        \"flat_time\": 10,\n",
    "        \"fall_time\": 5,\n",
    "        \"a0\": 1e-6,\n",
    "        \"k0\": 0.3,\n",
    "    }\n",
    "}\n",
    "\n",
    "pulse_dictionary[\"first pulse\"][\"w0\"] = np.real(\n",
    "    z_function.get_roots_to_electrostatic_dispersion(\n",
    "        wp_e=1.0, vth_e=1.0, k0=pulse_dictionary[\"first pulse\"][\"k0\"]\n",
    "    )\n",
    ")"
   ]
  },
  {
   "cell_type": "markdown",
   "metadata": {},
   "source": [
    "### Decide what you'd like to log, here we choose the driver frequency, wavenumber, and amplitude"
   ]
  },
  {
   "cell_type": "code",
   "execution_count": 3,
   "metadata": {},
   "outputs": [],
   "source": [
    "params_to_log = [\"w0\", \"k0\", \"a0\"]\n",
    "\n",
    "\n",
    "# Start a run\n",
    "manager.start_run(\n",
    "        all_params=all_params_dict,\n",
    "        pulse_dictionary=pulse_dictionary,\n",
    "        diagnostics=landau_damping.LandauDamping(params_to_log),\n",
    "        name=\"test-Landau Damping\",\n",
    "    )"
   ]
  },
  {
   "cell_type": "markdown",
   "metadata": {},
   "source": [
    "## The data and metadata from that simulation can be found by launching the MLFlow UI\n",
    "This requires one to launch an MLFlow server by executing `mlflow ui` from the directory of execution (`VlaPy/notebooks`).\n",
    "An MLFlow UI becomes accessible at `http://localhost:5000` . We provide a screenshot below"
   ]
  },
  {
   "cell_type": "markdown",
   "metadata": {},
   "source": [
    "![UI example](screenshots_for_example/ui.png)"
   ]
  },
  {
   "cell_type": "markdown",
   "metadata": {},
   "source": [
    "This UI records any parameters and metrics. \n",
    "\n",
    "Most importantly, it also shows where the files were stored for that particular run."
   ]
  },
  {
   "cell_type": "markdown",
   "metadata": {},
   "source": [
    "![Plot example](screenshots_for_example/damping.png)"
   ]
  },
  {
   "cell_type": "markdown",
   "metadata": {},
   "source": [
    "Note that the damping rate is as expected within a small error."
   ]
  }
 ],
 "metadata": {
  "kernelspec": {
   "display_name": "Python 3",
   "language": "python",
   "name": "python3"
  },
  "language_info": {
   "codemirror_mode": {
    "name": "ipython",
    "version": 3
   },
   "file_extension": ".py",
   "mimetype": "text/x-python",
   "name": "python",
   "nbconvert_exporter": "python",
   "pygments_lexer": "ipython3",
   "version": "3.8.2"
  },
  "widgets": {
   "application/vnd.jupyter.widget-state+json": {
    "state": {},
    "version_major": 2,
    "version_minor": 0
   }
  }
 },
 "nbformat": 4,
 "nbformat_minor": 4
}
